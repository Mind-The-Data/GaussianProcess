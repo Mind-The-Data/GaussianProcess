{
 "cells": [
  {
   "cell_type": "code",
   "execution_count": 2,
   "metadata": {},
   "outputs": [],
   "source": [
    "import numpy as np\n",
    "import pandas as pd\n",
    "import matplotlib.pyplot as plt\n",
    "import scipy.stats as st\n",
    "import seaborn as sns\n",
    "import scipy"
   ]
  },
  {
   "cell_type": "code",
   "execution_count": 3,
   "metadata": {},
   "outputs": [
    {
     "name": "stdout",
     "output_type": "stream",
     "text": [
      "there are 164 unique farms in loaded df\n"
     ]
    }
   ],
   "source": [
    "datapath = '/home/brian/WesternWheat/Data/Processed/stripped_mini_maxseason_labeled_df_23.csv'\n",
    "#datapath = '/home/brian/WesternWheat/Data/Processed/stripped_max_labeled_df_23.csv'\n",
    "#datapath = '/home/brian/WesternWheat/Data/Processed/maxdf_23.csv'\n",
    "\n",
    "df = pd.read_csv(datapath)\n",
    "Num_farms = pd.unique(df.pixel).size\n",
    "print ('there are {} unique farms in loaded df'.format(Num_farms))\n",
    "df_unique =  df.set_index('pixel')\n",
    "df_unique = df_unique[~df_unique.index.duplicated(keep='first')] # only keep unique index value\n",
    "\n",
    "farm_idx = df.pixel.values.astype(int)\n",
    "N_farms = pd.unique(df.pixel).size\n",
    "#====================================\n",
    "# reindexing pixels from 0-Nfarms\n",
    "#====================================\n",
    "zero_farm_idx = np.zeros_like(farm_idx)\n",
    "\n",
    "for i,farm in enumerate((np.unique(farm_idx))):\n",
    "        for j in np.where(farm_idx == farm): \n",
    "            zero_farm_idx[j] = int(i)   \n",
    "            \n",
    "##########################################################\n",
    "# This keeps order only becuase df is sorted by farm_idx\n",
    "#########################################################\n",
    "df['farm'] = zero_farm_idx"
   ]
  },
  {
   "cell_type": "code",
   "execution_count": 4,
   "metadata": {},
   "outputs": [],
   "source": [
    "###########################\n",
    "# ==== distance matrix ====\n",
    "###########################\n",
    "\n",
    "from scipy.spatial import distance_matrix\n",
    "from geopy.distance import geodesic\n",
    "\n",
    "    \n",
    "\n",
    "def distancematrix(df, distance_calc=True, sparse=True, dlim=100):\n",
    "    unique_farms = pd.unique(df.pixel)\n",
    "    distance = np.zeros((unique_farms.size,unique_farms.size))\n",
    "    df_unique = df.set_index('pixel')\n",
    "    df_unique = df_unique[~df_unique.index.duplicated(keep='first')] # only keep unique index values\n",
    "\n",
    "    for i in range(unique_farms.size):\n",
    "        lat_lon_i = df_unique.Latitude.iloc[i],df_unique.Longitude.iloc[i]\n",
    "        for j in range(unique_farms.size):\n",
    "            lat_lon_j = df_unique.Latitude.iloc[j],df_unique.Longitude.iloc[j]\n",
    "            if distance_calc == True:\n",
    "                distance[i,j] = geodesic(lat_lon_i, lat_lon_j).miles\n",
    "            if sparse == True and distance[i,j]>dlim:\n",
    "                distance[i,j] = np.NaN\n",
    "    return distance\n",
    "\n",
    "\n",
    "distance = distancematrix(df, distance_calc=True, sparse=False, dlim=75)\n",
    "\n",
    "Dmatsq = np.power(distance, 2)"
   ]
  },
  {
   "cell_type": "code",
   "execution_count": 5,
   "metadata": {},
   "outputs": [
    {
     "data": {
      "image/png": "[encoded data removed]",
      "text/plain": [
       "<Figure size 1080x144 with 10 Axes>"
      ]
     },
     "metadata": {},
     "output_type": "display_data"
    }
   ],
   "source": [
    "n=10\n",
    "k = np.zeros([n])\n",
    "etas = np.linspace(0,1,10)\n",
    "rhos = np.logspace(-3.8,-4.9,n)\n",
    "rhos = np.linspace(1e-3,1e-5,n)\n",
    "sigmay = .01\n",
    "etasq = .3\n",
    "fig,ax = plt.subplots(1,n,figsize=(n*1.5,2),sharey=True)\n",
    "for j, rhosq in enumerate(rhos):\n",
    "    Kij = etasq*(np.exp(-rhosq*Dmatsq))+np.diag([sigmay]*Num_farms)\n",
    "    #sns.kdeplot(data=np.ravel(Kij),ax=ax[j])\n",
    "    ax[j].hist(np.ravel(Kij),bins=30)\n",
    "    ax[j].set_title(r'$rho$ = {}'.format(round(rhosq,6)))\n",
    "   "
   ]
  },
  {
   "cell_type": "code",
   "execution_count": 23,
   "metadata": {},
   "outputs": [
    {
     "name": "stdout",
     "output_type": "stream",
     "text": [
      "0.5365853658536586 2.048780487804878 2.9146341463414633 109.15853658536585\n"
     ]
    },
    {
     "data": {
      "image/png": "[encoded data removed]",
      "text/plain": [
       "<Figure size 432x288 with 1 Axes>"
      ]
     },
     "metadata": {},
     "output_type": "display_data"
    }
   ],
   "source": [
    "\n",
    "etasq= 1\n",
    "rhosq = 1e-2\n",
    "Kij = etasq*(np.exp(-rhosq*Dmatsq))+np.diag([sigmay]*Num_farms)\n",
    "k = np.ravel(Kij)\n",
    "b = etasq/2\n",
    "p = .05\n",
    "l = .01\n",
    "#sns.heatmap(Kij);\n",
    "#print (np.nonzero(np.ravel(Kij)).size/175)\n",
    "N0 = (np.nonzero(k)[0].size-Num_farms)/Num_farms\n",
    "Nb = (np.argwhere(k>b).size - Num_farms) / Num_farms\n",
    "Np = (np.argwhere(k>p).size - Num_farms) / Num_farms\n",
    "Nl = (np.argwhere(k>l).size - Num_farms) / Num_farms\n",
    "print (Nb,Np, Nl, N0)\n",
    "#plt.hist(np.ravel(Kij),bins=80);\n",
    "plt.hist(np.argwhere(k>b));"
   ]
  },
  {
   "cell_type": "code",
   "execution_count": 7,
   "metadata": {},
   "outputs": [
    {
     "data": {
      "image/png": "[encoded data removed]",
      "text/plain": [
       "<Figure size 432x288 with 1 Axes>"
      ]
     },
     "metadata": {},
     "output_type": "display_data"
    }
   ],
   "source": [
    "rhosq = np.linspace(1e-3,1e-6, 100)\n",
    "k = []\n",
    "for r in rhosq:\n",
    "    K = etasq*(np.exp(-r*Dmatsq))+np.diag([sigmay]*Num_farms)\n",
    "    k.append(np.sum(K))\n",
    "plt.plot(rhosq,np.array(k)/Num_farms);"
   ]
  },
  {
   "cell_type": "code",
   "execution_count": null,
   "metadata": {},
   "outputs": [],
   "source": []
  },
  {
   "cell_type": "code",
   "execution_count": null,
   "metadata": {},
   "outputs": [],
   "source": []
  },
  {
   "cell_type": "code",
   "execution_count": null,
   "metadata": {},
   "outputs": [],
   "source": []
  },
  {
   "cell_type": "code",
   "execution_count": null,
   "metadata": {},
   "outputs": [],
   "source": []
  },
  {
   "cell_type": "code",
   "execution_count": null,
   "metadata": {},
   "outputs": [],
   "source": []
  },
  {
   "cell_type": "code",
   "execution_count": null,
   "metadata": {},
   "outputs": [],
   "source": []
  }
 ],
 "metadata": {
  "kernelspec": {
   "display_name": "Python 3",
   "language": "python",
   "name": "python3"
  },
  "language_info": {
   "codemirror_mode": {
    "name": "ipython",
    "version": 3
   },
   "file_extension": ".py",
   "mimetype": "text/x-python",
   "name": "python",
   "nbconvert_exporter": "python",
   "pygments_lexer": "ipython3",
   "version": "3.6.8"
  }
 },
 "nbformat": 4,
 "nbformat_minor": 2
}
