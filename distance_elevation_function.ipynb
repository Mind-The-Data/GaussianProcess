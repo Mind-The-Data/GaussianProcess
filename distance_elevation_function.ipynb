{
 "cells": [
  {
   "cell_type": "code",
   "execution_count": 1,
   "metadata": {},
   "outputs": [
    {
     "name": "stderr",
     "output_type": "stream",
     "text": [
      "/home/brian/anaconda2/envs/py36/lib/python3.6/site-packages/h5py/__init__.py:36: FutureWarning: Conversion of the second argument of issubdtype from `float` to `np.floating` is deprecated. In future, it will be treated as `np.float64 == np.dtype(float).type`.\n",
      "  from ._conv import register_converters as _register_converters\n"
     ]
    },
    {
     "name": "stdout",
     "output_type": "stream",
     "text": [
      "importing Jupyter notebook from GP_util.ipynb\n",
      "importing Jupyter notebook from GP_util.ipynb\n"
     ]
    }
   ],
   "source": [
    "import pymc3 as pm\n",
    "import numpy as np\n",
    "import pandas as pd\n",
    "import matplotlib.pyplot as plt\n",
    "from theano import tensor as tt\n",
    "import scipy.stats as st\n",
    "import seaborn as sns\n",
    "import scipy\n",
    "import import_ipynb\n",
    "import GP_util #load module first\n",
    "import importlib\n",
    "importlib.reload(GP_util) # reload full module\n",
    "from GP_util import unique, select, distancematrix,linear_pixel\n",
    "#import methods from reloaded module"
   ]
  },
  {
   "cell_type": "code",
   "execution_count": 2,
   "metadata": {},
   "outputs": [
    {
     "name": "stdout",
     "output_type": "stream",
     "text": [
      "there are 194 unique farms in loaded df\n"
     ]
    }
   ],
   "source": [
    "datapath = '/home/brian/WesternWheat/Data/Processed/maxdf_24.csv'\n",
    "df = pd.read_csv(datapath)\n",
    "\n",
    "df = select(df, n=200) # selects subset of df for time/memory reductions\n",
    "f, df_unique, zero_farm_idx, Num_farms = unique(df)"
   ]
  },
  {
   "cell_type": "code",
   "execution_count": null,
   "metadata": {},
   "outputs": [],
   "source": []
  },
  {
   "cell_type": "code",
   "execution_count": 4,
   "metadata": {},
   "outputs": [],
   "source": [
    "def fastdistancematrix(df, distance_calc=True, sparse=False, dlim=100):\n",
    "    \"\"\"\n",
    "    inputs: df\n",
    "\n",
    "    returns:\n",
    "    1.) distance between all farms in miles\n",
    "    2.) distance^2\n",
    "\n",
    "    \"\"\"\n",
    "\n",
    "\n",
    "    from scipy.spatial import distance_matrix\n",
    "    from geopy.distance import geodesic\n",
    "    unique_farms = pd.unique(df.pixel)\n",
    "    distance = np.zeros((unique_farms.size,unique_farms.size))\n",
    "    df_unique = df.set_index('pixel')\n",
    "    df_unique = df_unique[~df_unique.index.duplicated(keep='first')] # only keep unique index values\n",
    "\n",
    "    for i in range(unique_farms.size):\n",
    "    lat_lon_i = df_unique.Latitude.iloc[i],df_unique.Longitude.iloc[i]\n",
    "    for j in range(i):\n",
    "        lat_lon_j = df_unique.Latitude.iloc[j],df_unique.Longitude.iloc[j]\n",
    "        if distance_calc == True:\n",
    "            distance[i,j] = geodesic(lat_lon_i, lat_lon_j).miles\n",
    "            distance[j,i] = distance[i,j] # make use of symmetry\n",
    "    return distance, np.power(distance, 2)\n",
    "\n",
    "distance, Dmatsq = fastdistancematrix(df)"
   ]
  },
  {
   "cell_type": "code",
   "execution_count": 5,
   "metadata": {},
   "outputs": [],
   "source": [
    "d,dmatsq = distancematrix(df)"
   ]
  },
  {
   "cell_type": "code",
   "execution_count": 23,
   "metadata": {},
   "outputs": [
    {
     "data": {
      "text/plain": [
       "(37636, 37636)"
      ]
     },
     "execution_count": 23,
     "metadata": {},
     "output_type": "execute_result"
    }
   ],
   "source": [
    "# fast version does indeed work\n",
    "np.where(distance == d)[1].size, Num_farms**2"
   ]
  },
  {
   "cell_type": "code",
   "execution_count": null,
   "metadata": {},
   "outputs": [],
   "source": []
  },
  {
   "cell_type": "code",
   "execution_count": null,
   "metadata": {},
   "outputs": [],
   "source": []
  }
 ],
 "metadata": {
  "kernelspec": {
   "display_name": "Python 3",
   "language": "python",
   "name": "python3"
  },
  "language_info": {
   "codemirror_mode": {
    "name": "ipython",
    "version": 3
   },
   "file_extension": ".py",
   "mimetype": "text/x-python",
   "name": "python",
   "nbconvert_exporter": "python",
   "pygments_lexer": "ipython3",
   "version": "3.6.8"
  }
 },
 "nbformat": 4,
 "nbformat_minor": 2
}
